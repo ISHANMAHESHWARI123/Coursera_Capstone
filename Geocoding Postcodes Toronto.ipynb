{
 "cells": [
  {
   "cell_type": "markdown",
   "metadata": {},
   "source": [
    "#### Scraping Toronto neighbourhoods and postal codes from WikiPedia with BeautifulSoup4 and Pandas\n"
   ]
  },
  {
   "cell_type": "markdown",
   "metadata": {},
   "source": [
    "Import pandas and beautifulsoup for scraping a html table into pd.DataFrame"
   ]
  },
  {
   "cell_type": "code",
   "execution_count": null,
   "metadata": {},
   "outputs": [],
   "source": [
    "import pandas as pd\n",
    "import numpy as np\n",
    "from bs4 import BeautifulSoup as bs\n",
    "import requests\n",
    "import geocoder"
   ]
  },
  {
   "cell_type": "markdown",
   "metadata": {},
   "source": [
    "Define the url and BeautifulSoup4-process the html with the 'lxml' transformer into a bs-object"
   ]
  },
  {
   "cell_type": "code",
   "execution_count": null,
   "metadata": {},
   "outputs": [],
   "source": [
    "url = r'https://en.wikipedia.org/wiki/List_of_postal_codes_of_Canada:_M'\n",
    "req = requests.get(url)\n",
    "page = bs(req.content,'lxml')"
   ]
  },
  {
   "cell_type": "markdown",
   "metadata": {},
   "source": [
    "#### Step by step walkthrough\n",
    "- find the table in the bs4 object\n",
    "- read the found table with Pandas straight into a DataFrame with correct column headers\n",
    "- Drop all rows that have a 'Borough' with value 'Not assigned'\n",
    "- Join all Neighbourhoods per Postcode \n",
    "- Reset the index so the result returns towards a Integer-indexed DataFrame\n",
    "- Verification method for 'M5A'-case\n",
    "- Replace all Neighbourhood == 'Not assigned' with the value of the Borough column of that row\n",
    "- Verify this alteration of the DataFrame\n",
    "- Show the header of the resulting DataFrame"
   ]
  },
  {
   "cell_type": "code",
   "execution_count": null,
   "metadata": {},
   "outputs": [],
   "source": [
    "table = page.find('table')\n",
    "df = pd.read_html(str(table),header=0)[0]\n",
    "#df = df.drop(['Not assigned'], axis=0)\n",
    "df = df[df.Borough != 'Not assigned']\n",
    "# df = pd.DataFrame(df.groupby(['Postcode','Borough'])['Neighbourhood'].apply(', '.join) )\n",
    "# df = df.reset_index()\n",
    "# print('verify that the \\'M5A\\'-case is correct : \\n{}\\n '.format(df[df.Postcode == 'M5A']))\n",
    "# df.Neighbourhood[df.Neighbourhood == 'Not assigned'] = df.Borough\n",
    "# print('verify the Neighbourhood \\'Not assigned\\' method:\\n{}\\n'.format(df[df.Borough == 'Queen\\'s Park']))\n",
    "df.head(12)"
   ]
  },
  {
   "cell_type": "code",
   "execution_count": null,
   "metadata": {},
   "outputs": [],
   "source": [
    "# print('Toronto summary : \\n There are {} unique Postcodes \\\n",
    "# and \\n {} Boroughs in the final DataFrame'.format(df.Postcode.unique().size,df.Borough.unique().size))"
   ]
  },
  {
   "cell_type": "code",
   "execution_count": null,
   "metadata": {},
   "outputs": [],
   "source": [
    "df.shape"
   ]
  },
  {
   "cell_type": "markdown",
   "metadata": {},
   "source": [
    "#### Querying with arcgis, since  since Google returned no values at all and Here API couldn't find 2 PostCodes."
   ]
  },
  {
   "cell_type": "code",
   "execution_count": null,
   "metadata": {},
   "outputs": [],
   "source": [
    "#read Here API credentials from csv, for privacy purposes and GitHub publication\n",
    "#app_id, app_code = pd.read_csv('here.csv')\n",
    "# "
   ]
  },
  {
   "cell_type": "code",
   "execution_count": null,
   "metadata": {},
   "outputs": [],
   "source": [
    "# retrieve Latitude and Longitude with HereAPI instead of the unreliable GoogleAPI\n",
    "def getLatLong(row):\n",
    "    #print('post :{}'.format(row[:]))\n",
    "    #print('neigh :{}'.format(row[1]))\n",
    "    # initialize your variable to None\n",
    "    lat_lng_coords = None\n",
    "    search_query = '{}, Toronto, Ontario'.format(row)\n",
    "    # loop until you get the coordinates\n",
    "    try:\n",
    "        while(lat_lng_coords is None):\n",
    "            #g = geocoder.here(search_query,app_id=app_id,app_code=app_code)\n",
    "            g = geocoder.arcgis(search_query)\n",
    "            lat_lng_coords = g.latlng\n",
    "            #print('FIRST')\n",
    "    except IndexError:\n",
    "        latitude = 0.0\n",
    "        longitude = 0.0\n",
    "        print('BACKUP')\n",
    "        return [latitude,longitude]\n",
    "\n",
    "    latitude = lat_lng_coords[0]\n",
    "    longitude = lat_lng_coords[1]\n",
    "    print(latitude, longitude)\n",
    "    return [latitude, longitude]"
   ]
  },
  {
   "cell_type": "markdown",
   "metadata": {},
   "source": [
    "Query all Postcodes and return them to a list  \n",
    "Then parse the created list into a DataFrame with Named Columns and add those to the Source-DataFrame  \n",
    "in the correct columns\n"
   ]
  },
  {
   "cell_type": "code",
   "execution_count": null,
   "metadata": {},
   "outputs": [],
   "source": [
    "getLatLong('M1B')"
   ]
  },
  {
   "cell_type": "code",
   "execution_count": null,
   "metadata": {},
   "outputs": [],
   "source": [
    "# coords_list = df['Postal Code'].apply(getLatLong).tolist()"
   ]
  },
  {
   "cell_type": "markdown",
   "metadata": {},
   "source": [
    "## Parse the resultList into a column-named dataframe structure into New_df-columns"
   ]
  },
  {
   "cell_type": "code",
   "execution_count": null,
   "metadata": {},
   "outputs": [],
   "source": [
    "\n",
    "df[['Latitude','Longitude']] = pd.DataFrame(coords_list, columns=['Latitude', 'Longitude'])\n"
   ]
  },
  {
   "cell_type": "code",
   "execution_count": null,
   "metadata": {},
   "outputs": [],
   "source": [
    "df"
   ]
  },
  {
   "cell_type": "code",
   "execution_count": null,
   "metadata": {},
   "outputs": [],
   "source": [
    "df.head(12)"
   ]
  },
  {
   "cell_type": "code",
   "execution_count": null,
   "metadata": {},
   "outputs": [],
   "source": [
    "df.to_csv('toronto_part2.csv')"
   ]
  },
  {
   "cell_type": "code",
   "execution_count": null,
   "metadata": {},
   "outputs": [],
   "source": []
  },
  {
   "cell_type": "code",
   "execution_count": null,
   "metadata": {},
   "outputs": [],
   "source": []
  },
  {
   "cell_type": "code",
   "execution_count": null,
   "metadata": {},
   "outputs": [],
   "source": []
  }
 ],
 "metadata": {
  "kernelspec": {
   "display_name": "Python 3",
   "language": "python",
   "name": "python3"
  },
  "language_info": {
   "codemirror_mode": {
    "name": "ipython",
    "version": 3
   },
   "file_extension": ".py",
   "mimetype": "text/x-python",
   "name": "python",
   "nbconvert_exporter": "python",
   "pygments_lexer": "ipython3",
   "version": "3.8.2"
  }
 },
 "nbformat": 4,
 "nbformat_minor": 2
}
